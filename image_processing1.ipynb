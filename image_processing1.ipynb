{
 "cells": [
  {
   "cell_type": "code",
   "execution_count": 62,
   "id": "e5bf2274-6bdc-4d67-9860-773e1a6c4c45",
   "metadata": {},
   "outputs": [],
   "source": [
    "import cv2\n",
    "import matplotlib.pyplot as plt\n",
    "import numpy as np\n"
   ]
  },
  {
   "cell_type": "code",
   "execution_count": 64,
   "id": "3b7f77d9-d740-44dc-bb36-da0577134623",
   "metadata": {},
   "outputs": [],
   "source": [
    "my_img=cv2.imread(\"siyahkedi.jpg\")\n"
   ]
  },
  {
   "cell_type": "code",
   "execution_count": 66,
   "id": "fefd7fba-d483-4326-a16b-ee51ee06195b",
   "metadata": {},
   "outputs": [
    {
     "name": "stdout",
     "output_type": "stream",
     "text": [
      "<class 'numpy.ndarray'>\n",
      "(829, 792, 3)\n"
     ]
    }
   ],
   "source": [
    "print(type(my_img))\n",
    "print(my_img.shape)\n",
    "\n"
   ]
  },
  {
   "cell_type": "code",
   "execution_count": 41,
   "id": "3e4c7bde-817b-465f-8ebd-5508d6868912",
   "metadata": {},
   "outputs": [
    {
     "name": "stdout",
     "output_type": "stream",
     "text": [
      "Görüntünün yüksekliği = 829\n",
      "Görüntünün genişliği = 792\n",
      "Görüntünün kanal sayısı = 3\n"
     ]
    }
   ],
   "source": [
    "#görüntünün yüksekliği satır sayısıyla, genişliği sütun sayısıyla ilgilidir.\n",
    "\n",
    "print(f\"Görüntünün yüksekliği = {my_img.shape[0]}\")\n",
    "print(f\"Görüntünün genişliği = {my_img.shape[1]}\")\n",
    "print(f\"Görüntünün kanal sayısı = {my_img.shape[2]}\")"
   ]
  },
  {
   "cell_type": "code",
   "execution_count": 45,
   "id": "4106abd2-04de-414e-8990-6be5fee74976",
   "metadata": {},
   "outputs": [
    {
     "name": "stdout",
     "output_type": "stream",
     "text": [
      "Matristeki en düşük piksel değeri = 0\n",
      "Matristeki en yüksek piksel değeri = 255\n"
     ]
    }
   ],
   "source": [
    "#Bir görüntü(normal şartlarda) 0 ile 255 arasında 256 adet tam sayıyla ifede edilir.\n",
    "# 0 siyah rengine 255 ise beyaz rengine karşılık gelir.\n",
    "print(f\"Matristeki en düşük piksel değeri = {np.min(my_img)}\")\n",
    "print(f\"Matristeki en yüksek piksel değeri = {np.max(my_img)}\")"
   ]
  },
  {
   "cell_type": "code",
   "execution_count": null,
   "id": "637ae1dc-5966-48b4-ad6d-8045704f7761",
   "metadata": {},
   "outputs": [],
   "source": [
    "# BT.601 standardı : insan gözü en iyi yeşil sonra kırmızı ve daha sonra maviyi ayırt eder."
   ]
  },
  {
   "cell_type": "code",
   "execution_count": 50,
   "id": "ec0e5bac-75d9-4e2d-85b2-58eb177fc347",
   "metadata": {},
   "outputs": [
    {
     "data": {
      "text/plain": [
       "array([15, 13, 12], dtype=uint8)"
      ]
     },
     "execution_count": 50,
     "metadata": {},
     "output_type": "execute_result"
    }
   ],
   "source": [
    "my_img[600,500]\n",
    "# uint8 olma sebebi işaretsiz olması\n",
    "#open cv RGB olarak değil BGR olarak okur."
   ]
  },
  {
   "cell_type": "code",
   "execution_count": 52,
   "id": "1b12c3b7-eaed-4dd6-bdcb-5fbf5ee2222b",
   "metadata": {},
   "outputs": [],
   "source": [
    "#görüntüyü ekranda gösterme\n",
    "\n",
    "cv2.imshow(\"Kedi\",my_img)\n",
    "cv2.waitKey(0)\n",
    "cv2.destroyAllWindows()"
   ]
  },
  {
   "cell_type": "code",
   "execution_count": 56,
   "id": "44f2b1d2-81ed-43f4-afe8-e1afc9455b3a",
   "metadata": {},
   "outputs": [],
   "source": [
    "gri_img=cv2.cvtColor(my_img,cv2.COLOR_BGR2GRAY)"
   ]
  },
  {
   "cell_type": "raw",
   "id": "0f182445-3e2f-47b5-b201-3a6a930aad91",
   "metadata": {},
   "source": [
    "print(f\" orijinal görüntünün boyutları\")"
   ]
  },
  {
   "cell_type": "code",
   "execution_count": 60,
   "id": "6904dac9-7cf4-4302-9f8b-7551ea951f8b",
   "metadata": {},
   "outputs": [
    {
     "ename": "NameError",
     "evalue": "name 'figsize' is not defined",
     "output_type": "error",
     "traceback": [
      "\u001b[1;31m---------------------------------------------------------------------------\u001b[0m",
      "\u001b[1;31mNameError\u001b[0m                                 Traceback (most recent call last)",
      "Cell \u001b[1;32mIn[60], line 1\u001b[0m\n\u001b[1;32m----> 1\u001b[0m fig\u001b[38;5;241m=\u001b[39mplt\u001b[38;5;241m.\u001b[39mfigure(\u001b[43mfigsize\u001b[49m\u001b[38;5;241m*\u001b[39m(\u001b[38;5;241m10\u001b[39m,\u001b[38;5;241m7\u001b[39m))\n\u001b[0;32m      3\u001b[0m \u001b[38;5;66;03m#plt.subplot satır s. , sütun s. , kaçıncı görüntü olduğu\u001b[39;00m\n",
      "\u001b[1;31mNameError\u001b[0m: name 'figsize' is not defined"
     ]
    }
   ],
   "source": [
    "fig=plt.figure(figsize*(10,7))\n",
    "\n",
    "#plt.subplot satır s. , sütun s. , kaçıncı görüntü olduğu"
   ]
  },
  {
   "cell_type": "code",
   "execution_count": null,
   "id": "a6c10bb3-a89e-4deb-a82e-9cbe63e583aa",
   "metadata": {},
   "outputs": [],
   "source": []
  }
 ],
 "metadata": {
  "kernelspec": {
   "display_name": "env_ybs4",
   "language": "python",
   "name": "env_ybs4"
  },
  "language_info": {
   "codemirror_mode": {
    "name": "ipython",
    "version": 3
   },
   "file_extension": ".py",
   "mimetype": "text/x-python",
   "name": "python",
   "nbconvert_exporter": "python",
   "pygments_lexer": "ipython3",
   "version": "3.10.18"
  }
 },
 "nbformat": 4,
 "nbformat_minor": 5
}
